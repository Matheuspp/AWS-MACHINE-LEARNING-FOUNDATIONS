{
 "cells": [
  {
   "cell_type": "code",
   "execution_count": 1,
   "metadata": {},
   "outputs": [],
   "source": [
    "import numpy as np\n",
    "import matplotlib.pyplot as plt"
   ]
  },
  {
   "cell_type": "markdown",
   "metadata": {},
   "source": [
    "# Gaussian distribution formula"
   ]
  },
  {
   "cell_type": "markdown",
   "metadata": {},
   "source": [
    "# $f(x|\\mu, \\sigma^{2}) = \\frac{2}{\\sqrt{2\\pi\\sigma^{2}}}\\rm{e}^{ - \\frac{(x - \\mu)^{2}}{2\\sigma^{2}}}$\n",
    "\n",
    "## $z = \\frac{X - \\mu}{\\sigma}$"
   ]
  },
  {
   "cell_type": "code",
   "execution_count": 10,
   "metadata": {},
   "outputs": [],
   "source": [
    "def cal_gaussianProb(x, average, std_deviation):\n",
    "    \"\"\"compute the probability of x given the \n",
    "    parameters of the normal distribution.\n",
    "    \n",
    "    args: \n",
    "        average (float):  pounds\n",
    "        std_deviation (float):  pounds\n",
    "    \"\"\"\n",
    "    \n",
    "    y = ( 2/( (np.sqrt(2*np.pi*(std_deviation**2))) )) * (np.e**(-(x-average)**2)/(2*(std_deviation**2)) ) \n",
    "    \n",
    "    return y\n",
    "    \n",
    "    \n",
    "    \n",
    "    "
   ]
  },
  {
   "cell_type": "raw",
   "metadata": {},
   "source": [
    "Assume the average weight of an American adult male is 180 pounds with a standard deviation of 34 pounds. The distribution of weights follows a normal distribution. What is the probability that a man weighs exactly 185 pounds?"
   ]
  },
  {
   "cell_type": "markdown",
   "metadata": {},
   "source": [
    "### $P(x=185) = 0$"
   ]
  },
  {
   "cell_type": "raw",
   "metadata": {},
   "source": [
    "Like in the previous question, assume the average weight of an American adult male is 180 pounds with a standard deviation of 34 pounds. The distribution of weights follows a normal distribution. What is the probability that a man weighs somewhere between 120 and 155 pounds?"
   ]
  },
  {
   "cell_type": "markdown",
   "metadata": {},
   "source": [
    "### $P(120 < z < 155)=$ ?\n",
    "\n",
    "### $P(z > 120) = 1 - P(z > 120) = 0.6470588235294117$\n",
    "### $P(z > 120) = 0.6470588235294117$\n",
    "\n",
    "### $P(z < 155) =  0.35294117647058826$ \n",
    "\n",
    "### checking the table of probabilities\n",
    "### $P(z > 120) = 0.7389$\n",
    "### $P(z < 155) = 0.6368$"
   ]
  },
  {
   "cell_type": "code",
   "execution_count": 20,
   "metadata": {},
   "outputs": [
    {
     "data": {
      "text/plain": [
       "0.10209999999999997"
      ]
     },
     "execution_count": 20,
     "metadata": {},
     "output_type": "execute_result"
    }
   ],
   "source": []
  },
  {
   "cell_type": "code",
   "execution_count": null,
   "metadata": {},
   "outputs": [],
   "source": []
  },
  {
   "cell_type": "code",
   "execution_count": null,
   "metadata": {},
   "outputs": [],
   "source": []
  }
 ],
 "metadata": {
  "kernelspec": {
   "display_name": "Python 3",
   "language": "python",
   "name": "python3"
  },
  "language_info": {
   "codemirror_mode": {
    "name": "ipython",
    "version": 3
   },
   "file_extension": ".py",
   "mimetype": "text/x-python",
   "name": "python",
   "nbconvert_exporter": "python",
   "pygments_lexer": "ipython3",
   "version": "3.6.7"
  }
 },
 "nbformat": 4,
 "nbformat_minor": 2
}
